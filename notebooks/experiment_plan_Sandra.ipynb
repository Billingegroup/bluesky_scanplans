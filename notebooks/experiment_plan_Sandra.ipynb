{
 "cells": [
  {
   "cell_type": "code",
   "execution_count": 4,
   "id": "3c965b3a-3abb-4c4b-8e07-53244d7389b4",
   "metadata": {
    "collapsed": true,
    "jupyter": {
     "outputs_hidden": true
    },
    "tags": []
   },
   "outputs": [
    {
     "ename": "AttributeError",
     "evalue": "module 'intake.catalog.base' has no attribute 'RemoteCatalog'",
     "output_type": "error",
     "traceback": [
      "\u001b[0;31m---------------------------------------------------------------------------\u001b[0m",
      "\u001b[0;31mAttributeError\u001b[0m                            Traceback (most recent call last)",
      "\u001b[0;32m/mnt/c/Users/Sandra/Documents/jupyter_notebooks/bluesky_xpdacq/999-load.py\u001b[0m in \u001b[0;36m<module>\u001b[0;34m\u001b[0m\n\u001b[1;32m     22\u001b[0m \u001b[0mGrid_Y\u001b[0m \u001b[0;34m=\u001b[0m \u001b[0mns\u001b[0m\u001b[0;34m.\u001b[0m\u001b[0mmotor2\u001b[0m\u001b[0;34m\u001b[0m\u001b[0;34m\u001b[0m\u001b[0m\n\u001b[1;32m     23\u001b[0m \u001b[0mcryostream\u001b[0m \u001b[0;34m=\u001b[0m \u001b[0mcs700\u001b[0m\u001b[0;34m\u001b[0m\u001b[0;34m\u001b[0m\u001b[0m\n\u001b[0;32m---> 24\u001b[0;31m \u001b[0mdb\u001b[0m \u001b[0;34m=\u001b[0m \u001b[0mtemp\u001b[0m\u001b[0;34m(\u001b[0m\u001b[0;34m)\u001b[0m\u001b[0;34m\u001b[0m\u001b[0;34m\u001b[0m\u001b[0m\n\u001b[0m\u001b[1;32m     25\u001b[0m \u001b[0;34m\u001b[0m\u001b[0m\n\u001b[1;32m     26\u001b[0m \u001b[0m_start_beamtime\u001b[0m \u001b[0;34m=\u001b[0m \u001b[0m_start_beamtime\u001b[0m\u001b[0;34m\u001b[0m\u001b[0;34m\u001b[0m\u001b[0m\n",
      "\u001b[0;32m~/anaconda3/envs/diffpy_new/lib/python3.7/site-packages/databroker/v1.py\u001b[0m in \u001b[0;36mtemp\u001b[0;34m()\u001b[0m\n\u001b[1;32m     38\u001b[0m \u001b[0;34m\u001b[0m\u001b[0m\n\u001b[1;32m     39\u001b[0m \u001b[0;32mdef\u001b[0m \u001b[0mtemp\u001b[0m\u001b[0;34m(\u001b[0m\u001b[0;34m)\u001b[0m\u001b[0;34m:\u001b[0m\u001b[0;34m\u001b[0m\u001b[0;34m\u001b[0m\u001b[0m\n\u001b[0;32m---> 40\u001b[0;31m     \u001b[0;32mfrom\u001b[0m \u001b[0;34m.\u001b[0m\u001b[0mv2\u001b[0m \u001b[0;32mimport\u001b[0m \u001b[0mtemp\u001b[0m\u001b[0;34m\u001b[0m\u001b[0;34m\u001b[0m\u001b[0m\n\u001b[0m\u001b[1;32m     41\u001b[0m     \u001b[0mcatalog\u001b[0m \u001b[0;34m=\u001b[0m \u001b[0mtemp\u001b[0m\u001b[0;34m(\u001b[0m\u001b[0;34m)\u001b[0m\u001b[0;34m\u001b[0m\u001b[0;34m\u001b[0m\u001b[0m\n\u001b[1;32m     42\u001b[0m     \u001b[0;32mreturn\u001b[0m \u001b[0mBroker\u001b[0m\u001b[0;34m(\u001b[0m\u001b[0mcatalog\u001b[0m\u001b[0;34m)\u001b[0m\u001b[0;34m\u001b[0m\u001b[0;34m\u001b[0m\u001b[0m\n",
      "\u001b[0;32m~/anaconda3/envs/diffpy_new/lib/python3.7/site-packages/databroker/v2.py\u001b[0m in \u001b[0;36m<module>\u001b[0;34m\u001b[0m\n\u001b[1;32m      2\u001b[0m \u001b[0;32mimport\u001b[0m \u001b[0mtempfile\u001b[0m\u001b[0;34m\u001b[0m\u001b[0;34m\u001b[0m\u001b[0m\n\u001b[1;32m      3\u001b[0m \u001b[0;34m\u001b[0m\u001b[0m\n\u001b[0;32m----> 4\u001b[0;31m \u001b[0;32mfrom\u001b[0m \u001b[0;34m.\u001b[0m\u001b[0mcore\u001b[0m \u001b[0;32mimport\u001b[0m \u001b[0mparse_handler_registry\u001b[0m\u001b[0;34m,\u001b[0m \u001b[0mdiscover_handlers\u001b[0m\u001b[0;34m\u001b[0m\u001b[0;34m\u001b[0m\u001b[0m\n\u001b[0m\u001b[1;32m      5\u001b[0m \u001b[0;32mfrom\u001b[0m \u001b[0mintake\u001b[0m\u001b[0;34m.\u001b[0m\u001b[0mcatalog\u001b[0m \u001b[0;32mimport\u001b[0m \u001b[0mCatalog\u001b[0m\u001b[0;34m\u001b[0m\u001b[0;34m\u001b[0m\u001b[0m\n\u001b[1;32m      6\u001b[0m \u001b[0;32mfrom\u001b[0m \u001b[0mevent_model\u001b[0m \u001b[0;32mimport\u001b[0m \u001b[0mDuplicateHandler\u001b[0m\u001b[0;34m\u001b[0m\u001b[0;34m\u001b[0m\u001b[0m\n",
      "\u001b[0;32m~/anaconda3/envs/diffpy_new/lib/python3.7/site-packages/databroker/core.py\u001b[0m in \u001b[0;36m<module>\u001b[0;34m\u001b[0m\n\u001b[1;32m    536\u001b[0m \u001b[0;34m\u001b[0m\u001b[0m\n\u001b[1;32m    537\u001b[0m \u001b[0;34m\u001b[0m\u001b[0m\n\u001b[0;32m--> 538\u001b[0;31m \u001b[0;32mclass\u001b[0m \u001b[0mRemoteBlueskyRun\u001b[0m\u001b[0;34m(\u001b[0m\u001b[0mintake\u001b[0m\u001b[0;34m.\u001b[0m\u001b[0mcatalog\u001b[0m\u001b[0;34m.\u001b[0m\u001b[0mbase\u001b[0m\u001b[0;34m.\u001b[0m\u001b[0mRemoteCatalog\u001b[0m\u001b[0;34m)\u001b[0m\u001b[0;34m:\u001b[0m\u001b[0;34m\u001b[0m\u001b[0;34m\u001b[0m\u001b[0m\n\u001b[0m\u001b[1;32m    539\u001b[0m     \"\"\"\n\u001b[1;32m    540\u001b[0m     \u001b[0mCatalog\u001b[0m \u001b[0mrepresenting\u001b[0m \u001b[0mone\u001b[0m \u001b[0mRun\u001b[0m\u001b[0;34m.\u001b[0m\u001b[0;34m\u001b[0m\u001b[0;34m\u001b[0m\u001b[0m\n",
      "\u001b[0;31mAttributeError\u001b[0m: module 'intake.catalog.base' has no attribute 'RemoteCatalog'"
     ]
    }
   ],
   "source": [
    "%run -i \"999-load.py\""
   ]
  },
  {
   "cell_type": "code",
   "execution_count": 1,
   "id": "778de792-fc92-476b-98d4-c6dc2b71dfe5",
   "metadata": {},
   "outputs": [],
   "source": [
    "from bluesky.simulators import summarize_plan\n",
    "import bluesky.preprocessors as bpp"
   ]
  },
  {
   "cell_type": "code",
   "execution_count": 2,
   "id": "57fcc42d-9e95-4b64-a506-1871b2d78c48",
   "metadata": {},
   "outputs": [
    {
     "ename": "NameError",
     "evalue": "name 'glbl' is not defined",
     "output_type": "error",
     "traceback": [
      "\u001b[0;31m---------------------------------------------------------------------------\u001b[0m",
      "\u001b[0;31mNameError\u001b[0m                                 Traceback (most recent call last)",
      "\u001b[0;32m<ipython-input-2-71d3b2b14968>\u001b[0m in \u001b[0;36m<module>\u001b[0;34m\u001b[0m\n\u001b[0;32m----> 1\u001b[0;31m \u001b[0mglbl\u001b[0m\u001b[0;34m[\u001b[0m\u001b[0;34m\"frame_acq_time\"\u001b[0m\u001b[0;34m]\u001b[0m \u001b[0;34m=\u001b[0m \u001b[0;36m0.2\u001b[0m\u001b[0;34m\u001b[0m\u001b[0;34m\u001b[0m\u001b[0m\n\u001b[0m\u001b[1;32m      2\u001b[0m \u001b[0mxpd_configuration\u001b[0m\u001b[0;34m[\u001b[0m\u001b[0;34m'temp_controller'\u001b[0m\u001b[0;34m]\u001b[0m \u001b[0;34m=\u001b[0m \u001b[0mcryostream\u001b[0m\u001b[0;34m\u001b[0m\u001b[0;34m\u001b[0m\u001b[0m\n",
      "\u001b[0;31mNameError\u001b[0m: name 'glbl' is not defined"
     ]
    }
   ],
   "source": [
    "glbl[\"frame_acq_time\"] = 0.2\n",
    "xpd_configuration['temp_controller'] = cryostream"
   ]
  },
  {
   "cell_type": "code",
   "execution_count": null,
   "id": "8e41850f-49f8-4c1d-9a3f-eedc8c1290a0",
   "metadata": {},
   "outputs": [],
   "source": [
    "bt.list()\n"
   ]
  },
  {
   "cell_type": "code",
   "execution_count": null,
   "id": "19bbe32f-2220-4496-a883-153b07ddacae",
   "metadata": {},
   "outputs": [],
   "source": [
    "Sample(bt, {\"sample_name\": \"SrTiO3\", \"sample_composition\": \"SrTiO3\", \"sample_phase\": {\"Sr\": 1, \"Ti\": 1, \"O\": 3}})\n",
    "bt.list()"
   ]
  },
  {
   "cell_type": "code",
   "execution_count": null,
   "id": "ba728635-4345-4dd8-a5b2-08a97b9ec48f",
   "metadata": {},
   "outputs": [],
   "source": [
    "def gen_plan_SrTiO3():\n",
    "    \"\"\"Measure one sample.\"\"\"\n",
    "    # move to sample position x = 12\n",
    "    yield from bps.mv(Grid_X, 12.)\n",
    "    # run the scan, a temperature rampong from 80 to 400 with step 5 and 60s exposure at each point\n",
    "    # here the pe1c is just a place holder, the detector to use is xpd_configuration['area_det']\n",
    "    plan = Tramp([pe1c], exposure=60, Tstart=80, Tstop=200, Tstep=2)\n",
    "    # here we directly inject the sample metadata into the plan\n",
    "    sample_md = bt.samples.get_md(1)\n",
    "    plan = bpp.inject_md_wrapper(plan, sample_md)\n",
    "    print(\"sample -> {}\".format(sample_md.get(\"sample_name\", \"\")))\n",
    "    yield from plan\n",
    "    # move the temperature back to room temperature\n",
    "    yield from bps.mv(cryostream, 300)"
   ]
  },
  {
   "cell_type": "code",
   "execution_count": null,
   "id": "ae3346aa-39c5-4abc-9327-ba36eac95c16",
   "metadata": {},
   "outputs": [],
   "source": [
    "summarize_plan(gen_plan_SrTiO3())"
   ]
  },
  {
   "cell_type": "code",
   "execution_count": null,
   "id": "0f4d1480-20a5-4dc6-b18c-e2b48577e127",
   "metadata": {},
   "outputs": [],
   "source": [
    "xrun({}, gen_plan_SrTiO3())"
   ]
  },
  {
   "cell_type": "code",
   "execution_count": null,
   "id": "4ff689b7-8fe0-41d2-92a2-db1b0fb783d1",
   "metadata": {},
   "outputs": [],
   "source": [
    "def gen_plan_BaTiO3():\n",
    "    \"\"\"Measure another sample.\"\"\"\n",
    "    # move to sample position x = 12\n",
    "    yield from bps.mv(Grid_X, 15.)\n",
    "    # run the scan, a temperature rampong from 80 to 400 with step 5 and 60s exposure at each point\n",
    "    # here the pe1c is just a place holder, the detector to use is xpd_configuration['area_det']\n",
    "    plan = Tramp([pe1c], exposure=60, Tstart=100, Tstop=500, Tstep=2)\n",
    "    # here we directly inject the sample metadata into the plan\n",
    "    sample_md = bt.samples.get_md(1)\n",
    "    plan = bpp.inject_md_wrapper(plan, sample_md)\n",
    "    print(\"sample -> {}\".format(sample_md.get(\"sample_name\", \"\")))\n",
    "    yield from plan\n",
    "    # move the temperature back to room temperature\n",
    "    yield from bps.mv(cryostream, 300)"
   ]
  },
  {
   "cell_type": "code",
   "execution_count": null,
   "id": "2b7d1374-da9e-4485-ba9b-4438bc04dbf5",
   "metadata": {},
   "outputs": [],
   "source": [
    "def gen_plan_CaTiO3():\n",
    "    \"\"\"Measure another sample.\"\"\"\n",
    "    # move to sample position x = 12\n",
    "    yield from bps.mv(Grid_X, 15.)\n",
    "    # run the scan, a temperature rampong from 80 to 400 with step 5 and 60s exposure at each point\n",
    "    # here the pe1c is just a place holder, the detector to use is xpd_configuration['area_det']\n",
    "    plan = Tramp([pe1c], exposure=60, Tstart=200, Tstop=300, Tstep=20)\n",
    "    # here we directly inject the sample metadata into the plan\n",
    "    sample_md = bt.samples.get_md(1)\n",
    "    plan = bpp.inject_md_wrapper(plan, sample_md)\n",
    "    print(\"sample -> {}\".format(sample_md.get(\"sample_name\", \"\")))\n",
    "    yield from plan\n",
    "    # move the temperature back to room temperature\n",
    "    yield from bps.mv(cryostream, 300)"
   ]
  },
  {
   "cell_type": "code",
   "execution_count": null,
   "id": "99c6e87b-92eb-43ff-8263-ef1330526cea",
   "metadata": {},
   "outputs": [],
   "source": [
    "def gen_plan_PbTiO3():\n",
    "    \"\"\"Measure another sample.\"\"\"\n",
    "    # move to sample position x = 12\n",
    "    yield from bps.mv(Grid_X, 15.)\n",
    "    # run the scan, a temperature rampong from 80 to 400 with step 5 and 60s exposure at each point\n",
    "    # here the pe1c is just a place holder, the detector to use is xpd_configuration['area_det']\n",
    "    plan = Tramp([pe1c], exposure=60, Tstart=300, Tstop=400, Tstep=5)\n",
    "    # here we directly inject the sample metadata into the plan\n",
    "    sample_md = bt.samples.get_md(1)\n",
    "    plan = bpp.inject_md_wrapper(plan, sample_md)\n",
    "    print(\"sample -> {}\".format(sample_md.get(\"sample_name\", \"\")))\n",
    "    yield from plan\n",
    "    # move the temperature back to room temperature\n",
    "    yield from bps.mv(cryostream, 300)"
   ]
  },
  {
   "cell_type": "code",
   "execution_count": null,
   "id": "2c06bf70-e85b-47da-bfbf-ef66fd8a0a80",
   "metadata": {},
   "outputs": [],
   "source": [
    "def gen_plan_SrZrO3():\n",
    "    \"\"\"Measure another sample.\"\"\"\n",
    "    # move to sample position x = 12\n",
    "    yield from bps.mv(Grid_X, 15.)\n",
    "    # run the scan, a temperature rampong from 80 to 400 with step 5 and 60s exposure at each point\n",
    "    # here the pe1c is just a place holder, the detector to use is xpd_configuration['area_det']\n",
    "    plan = Tramp([pe1c], exposure=60, Tstart=300, Tstop=400, Tstep=20)\n",
    "    # here we directly inject the sample metadata into the plan\n",
    "    sample_md = bt.samples.get_md(1)\n",
    "    plan = bpp.inject_md_wrapper(plan, sample_md)\n",
    "    print(\"sample -> {}\".format(sample_md.get(\"sample_name\", \"\")))\n",
    "    yield from plan\n",
    "    # move the temperature back to room temperature\n",
    "    yield from bps.mv(cryostream, 300)"
   ]
  },
  {
   "cell_type": "code",
   "execution_count": null,
   "id": "a3c07c9f-aea6-4ad3-82a1-fcdc82f7bb42",
   "metadata": {},
   "outputs": [],
   "source": [
    "def gen_plan_BaZrO3():\n",
    "    \"\"\"Measure another sample.\"\"\"\n",
    "    # move to sample position x = 12\n",
    "    yield from bps.mv(Grid_X, 15.)\n",
    "    # run the scan, a temperature rampong from 80 to 400 with step 5 and 60s exposure at each point\n",
    "    # here the pe1c is just a place holder, the detector to use is xpd_configuration['area_det']\n",
    "    plan = Tramp([pe1c], exposure=60, Tstart=300, Tstop=500, Tstep=2)\n",
    "    # here we directly inject the sample metadata into the plan\n",
    "    sample_md = bt.samples.get_md(1)\n",
    "    plan = bpp.inject_md_wrapper(plan, sample_md)\n",
    "    print(\"sample -> {}\".format(sample_md.get(\"sample_name\", \"\")))\n",
    "    yield from plan\n",
    "    # move the temperature back to room temperature\n",
    "    yield from bps.mv(cryostream, 300)"
   ]
  },
  {
   "cell_type": "code",
   "execution_count": null,
   "id": "688c7919-edec-4ea9-b6da-d45b8b6a2b00",
   "metadata": {},
   "outputs": [],
   "source": [
    "def gen_plan_LaVO3():\n",
    "    \"\"\"Measure another sample.\"\"\"\n",
    "    # move to sample position x = 12\n",
    "    yield from bps.mv(Grid_X, 15.)\n",
    "    # run the scan, a temperature rampong from 80 to 400 with step 5 and 60s exposure at each point\n",
    "    # here the pe1c is just a place holder, the detector to use is xpd_configuration['area_det']\n",
    "    plan = Tramp([pe1c], exposure=60, Tstart=80, Tstop=200, Tstep=2)\n",
    "    # here we directly inject the sample metadata into the plan\n",
    "    sample_md = bt.samples.get_md(1)\n",
    "    plan = bpp.inject_md_wrapper(plan, sample_md)\n",
    "    print(\"sample -> {}\".format(sample_md.get(\"sample_name\", \"\")))\n",
    "    yield from plan\n",
    "    # move the temperature back to room temperature\n",
    "    yield from bps.mv(cryostream, 300)"
   ]
  },
  {
   "cell_type": "code",
   "execution_count": null,
   "id": "1778cc20-709f-4503-930c-579c03ab881a",
   "metadata": {},
   "outputs": [],
   "source": [
    "chained_plan1 = bpp.pchain(gen_plan_SrTiO3(), gen_plan_BaTiO3())"
   ]
  },
  {
   "cell_type": "code",
   "execution_count": null,
   "id": "dbbbe2a2-9e2a-4fd5-bc27-90dc0125eaf9",
   "metadata": {},
   "outputs": [],
   "source": [
    "def gen_two_plans():\n",
    "    yield from gen_plan_CaTiO3()\n",
    "    yield from gen_plan_SrTiO3()\n",
    "    yield from gen_plan_BaTiO3()\n",
    "    yield from gen_plan_PbTiO3()\n",
    "\n",
    "chained_plan2 = gen_two_plans()"
   ]
  },
  {
   "cell_type": "code",
   "execution_count": null,
   "id": "2dc9b4ae-8237-4f2a-a976-01c638e3f72b",
   "metadata": {},
   "outputs": [],
   "source": [
    "latest_run = db[-1]\n",
    "latest_run.start\n",
    "latest_run.stop"
   ]
  }
 ],
 "metadata": {
  "kernelspec": {
   "display_name": "Python 3",
   "language": "python",
   "name": "python3"
  },
  "language_info": {
   "codemirror_mode": {
    "name": "ipython",
    "version": 3
   },
   "file_extension": ".py",
   "mimetype": "text/x-python",
   "name": "python",
   "nbconvert_exporter": "python",
   "pygments_lexer": "ipython3",
   "version": "3.7.10"
  }
 },
 "nbformat": 4,
 "nbformat_minor": 5
}
